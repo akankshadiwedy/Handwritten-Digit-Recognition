{
 "cells": [
  {
   "cell_type": "code",
   "execution_count": 15,
   "metadata": {},
   "outputs": [
    {
     "name": "stdout",
     "output_type": "stream",
     "text": [
      "Epoch 1/5\n",
      "60000/60000 [==============================] - 6s 102us/step - loss: 0.2590 - acc: 0.9232\n",
      "Epoch 2/5\n",
      "60000/60000 [==============================] - 6s 96us/step - loss: 0.1058 - acc: 0.9668\n",
      "Epoch 3/5\n",
      "60000/60000 [==============================] - 6s 96us/step - loss: 0.0743 - acc: 0.9770\n",
      "Epoch 4/5\n",
      "60000/60000 [==============================] - 6s 97us/step - loss: 0.0563 - acc: 0.9822\n",
      "Epoch 5/5\n",
      "60000/60000 [==============================] - 6s 95us/step - loss: 0.0449 - acc: 0.9854\n"
     ]
    },
    {
     "data": {
      "text/plain": [
       "<tensorflow.python.keras.callbacks.History at 0xb337d6e50>"
      ]
     },
     "execution_count": 15,
     "metadata": {},
     "output_type": "execute_result"
    }
   ],
   "source": [
    "import tensorflow as tf\n",
    "\n",
    "mnist = tf.keras.datasets.mnist\n",
    "\n",
    "#Load the dataset\n",
    "(x_train, y_train),(x_test, y_test) = mnist.load_data()\n",
    "\n",
    "#Normalize the dataset (Observe change in results if not normalized)\n",
    "#Model trains better\n",
    "x_train = tf.keras.utils.normalize(x_train)\n",
    "x_test = tf.keras.utils.normalize(x_test)\n",
    "\n",
    "\n",
    "#architecture of the model\n",
    "model = tf.keras.models.Sequential()\n",
    "model.add(tf.keras.layers.Flatten())\n",
    "model.add(tf.keras.layers.Dense(128,activation = tf.nn.relu))\n",
    "model.add(tf.keras.layers.Dense(128,activation = tf.nn.relu))\n",
    "model.add(tf.keras.layers.Dense(10,activation = tf.nn.softmax))\n",
    "\n",
    "#train the model\n",
    "model.compile(optimizer='adam',loss='sparse_categorical_crossentropy',metrics=['accuracy'])\n",
    "model.fit(x_train, y_train, epochs = 5)"
   ]
  },
  {
   "cell_type": "code",
   "execution_count": 16,
   "metadata": {},
   "outputs": [
    {
     "name": "stdout",
     "output_type": "stream",
     "text": [
      "10000/10000 [==============================] - 0s 43us/step\n",
      "0.08593598281999584\n",
      "0.9762\n"
     ]
    }
   ],
   "source": [
    "#checking if not overfitted or underfitted\n",
    "\n",
    "test_loss, test_acc = model.evaluate(x_test, y_test)\n",
    "print test_loss\n",
    "print test_acc"
   ]
  },
  {
   "cell_type": "code",
   "execution_count": 12,
   "metadata": {},
   "outputs": [
    {
     "data": {
      "image/png": "[encoded data removed]",
      "text/plain": [
       "<Figure size 432x288 with 1 Axes>"
      ]
     },
     "metadata": {
      "needs_background": "light"
     },
     "output_type": "display_data"
    }
   ],
   "source": [
    "import matplotlib.pyplot as plt\n",
    "plt.imshow(x_train[0], cmap = plt.cm.binary)\n",
    "plt.show()"
   ]
  },
  {
   "cell_type": "code",
   "execution_count": 18,
   "metadata": {},
   "outputs": [
    {
     "name": "stdout",
     "output_type": "stream",
     "text": [
      "[[4.1871431e-09 1.4737985e-08 4.8772051e-07 ... 9.9999928e-01\n",
      "  2.5504873e-11 4.5936300e-08]\n",
      " [1.3009520e-10 3.9769407e-06 9.9999595e-01 ... 2.9644396e-09\n",
      "  7.8564739e-08 2.6073758e-13]\n",
      " [3.2006553e-10 9.9982458e-01 1.1689249e-05 ... 3.4031851e-05\n",
      "  1.2789475e-04 3.3073391e-08]\n",
      " ...\n",
      " [1.2513218e-10 1.4662107e-06 1.5095235e-10 ... 3.6555462e-05\n",
      "  5.8091575e-07 8.3197856e-06]\n",
      " [1.0275836e-06 1.2608571e-07 2.1660682e-08 ... 4.1795882e-08\n",
      "  1.0642294e-03 2.9624605e-08]\n",
      " [1.3065011e-08 7.1293735e-12 4.3299863e-08 ... 2.0792167e-14\n",
      "  1.4377476e-10 6.8814845e-12]]\n"
     ]
    }
   ],
   "source": [
    "# make predictions\n",
    "prediction = model.predict(x_test)\n",
    "print prediction"
   ]
  },
  {
   "cell_type": "code",
   "execution_count": 23,
   "metadata": {},
   "outputs": [
    {
     "name": "stdout",
     "output_type": "stream",
     "text": [
      "4\n"
     ]
    }
   ],
   "source": [
    "import numpy as np\n",
    "print np.argmax(prediction[300])"
   ]
  },
  {
   "cell_type": "code",
   "execution_count": 24,
   "metadata": {},
   "outputs": [
    {
     "data": {
      "image/png": "[encoded data removed]",
      "text/plain": [
       "<Figure size 432x288 with 1 Axes>"
      ]
     },
     "metadata": {
      "needs_background": "light"
     },
     "output_type": "display_data"
    }
   ],
   "source": [
    "plt.imshow(x_test[300])\n",
    "plt.show()"
   ]
  }
 ],
 "metadata": {
  "kernelspec": {
   "display_name": "Python 2",
   "language": "python",
   "name": "python2"
  },
  "language_info": {
   "codemirror_mode": {
    "name": "ipython",
    "version": 2
   },
   "file_extension": ".py",
   "mimetype": "text/x-python",
   "name": "python",
   "nbconvert_exporter": "python",
   "pygments_lexer": "ipython2",
   "version": "2.7.15"
  }
 },
 "nbformat": 4,
 "nbformat_minor": 2
}
